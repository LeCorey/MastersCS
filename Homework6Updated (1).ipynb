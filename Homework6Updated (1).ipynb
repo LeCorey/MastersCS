{
 "cells": [
  {
   "cell_type": "code",
   "execution_count": 5,
   "id": "8aafcd4a",
   "metadata": {},
   "outputs": [
    {
     "name": "stdout",
     "output_type": "stream",
     "text": [
      "Requirement already satisfied: nltk in /Users/lecoreyjohnson/.local/lib/python3.9/site-packages (3.8.1)\r\n",
      "Requirement already satisfied: click in /Users/lecoreyjohnson/opt/anaconda3/lib/python3.9/site-packages (from nltk) (8.0.4)\r\n",
      "Requirement already satisfied: joblib in /Users/lecoreyjohnson/opt/anaconda3/lib/python3.9/site-packages (from nltk) (1.1.0)\r\n",
      "Requirement already satisfied: regex>=2021.8.3 in /Users/lecoreyjohnson/opt/anaconda3/lib/python3.9/site-packages (from nltk) (2022.7.9)\r\n",
      "Requirement already satisfied: tqdm in /Users/lecoreyjohnson/opt/anaconda3/lib/python3.9/site-packages (from nltk) (4.64.1)\r\n"
     ]
    },
    {
     "name": "stderr",
     "output_type": "stream",
     "text": [
      "[nltk_data] Downloading package punkt to\n",
      "[nltk_data]     /Users/lecoreyjohnson/nltk_data...\n",
      "[nltk_data]   Unzipping tokenizers/punkt.zip.\n",
      "[nltk_data] Downloading package words to\n",
      "[nltk_data]     /Users/lecoreyjohnson/nltk_data...\n",
      "[nltk_data]   Package words is already up-to-date!\n"
     ]
    },
    {
     "data": {
      "text/plain": [
       "True"
      ]
     },
     "execution_count": 5,
     "metadata": {},
     "output_type": "execute_result"
    }
   ],
   "source": [
    "!pip install nltk\n",
    "import nltk\n",
    "from nltk.tokenize import word_tokenize\n",
    "from nltk.corpus import words\n",
    "\n",
    "# Download the list of English words from NLTK\n",
    "nltk.download('punkt')\n",
    "nltk.download('words')\n"
   ]
  },
  {
   "cell_type": "code",
   "execution_count": 6,
   "id": "b40b98ef",
   "metadata": {},
   "outputs": [],
   "source": [
    "file_path = '/Users/lecoreyjohnson/Documents/Shakespeare.txt'\n",
    "\n",
    "with open(file_path, \"r\") as file:\n",
    "    text = file.read()\n"
   ]
  },
  {
   "cell_type": "code",
   "execution_count": 7,
   "id": "31c84d77",
   "metadata": {},
   "outputs": [
    {
     "data": {
      "text/plain": [
       "15974"
      ]
     },
     "execution_count": 7,
     "metadata": {},
     "output_type": "execute_result"
    }
   ],
   "source": [
    "tokens = word_tokenize(text)\n",
    "english_words_nltk = set(words.words())\n",
    "filtered_tokens = [word.lower() for word in tokens if word.lower() in english_words_nltk]\n",
    "word_count_nltk = len(filtered_tokens)\n",
    "word_count_nltk\n"
   ]
  },
  {
   "cell_type": "code",
   "execution_count": 8,
   "id": "d7259902",
   "metadata": {},
   "outputs": [
    {
     "name": "stdout",
     "output_type": "stream",
     "text": [
      "[('and', 490), ('the', 432), ('to', 408), ('my', 393), ('of', 370), ('i', 351), ('that', 323), ('in', 323), ('thy', 287), ('thou', 234), ('love', 188), ('with', 181), ('is', 180), ('not', 176), ('for', 171), ('me', 164), ('but', 163), ('a', 163), ('thee', 162), ('so', 145)]\n"
     ]
    }
   ],
   "source": [
    "# Function to process the text and find the most frequent words\n",
    "def find_most_frequent_words(file_path, num_words=20):\n",
    "    with open(file_path, 'r') as file:\n",
    "        text = file.read()\n",
    "\n",
    "    # Tokenize the text\n",
    "    tokens = word_tokenize(text)\n",
    "\n",
    "    # Create a set of English words\n",
    "    english_words = set(words.words())\n",
    "\n",
    "    # Filter tokens to include only English words\n",
    "    tokens = [word.lower() for word in tokens if word.lower() in english_words]\n",
    "\n",
    "    # Counting the frequency of each word\n",
    "    word_counts = Counter(tokens)\n",
    "\n",
    "    # Getting the most common words\n",
    "    return word_counts.most_common(num_words)\n",
    "\n",
    "# Finding the 20 most frequent words\n",
    "most_frequent_20 = find_most_frequent_words(file_path)\n",
    "print(most_frequent_20)"
   ]
  },
  {
   "cell_type": "code",
   "execution_count": null,
   "id": "891fe2f3",
   "metadata": {},
   "outputs": [],
   "source": []
  }
 ],
 "metadata": {
  "kernelspec": {
   "display_name": "Python 3 (ipykernel)",
   "language": "python",
   "name": "python3"
  },
  "language_info": {
   "codemirror_mode": {
    "name": "ipython",
    "version": 3
   },
   "file_extension": ".py",
   "mimetype": "text/x-python",
   "name": "python",
   "nbconvert_exporter": "python",
   "pygments_lexer": "ipython3",
   "version": "3.9.13"
  }
 },
 "nbformat": 4,
 "nbformat_minor": 5
}
